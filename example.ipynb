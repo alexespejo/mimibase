{
 "cells": [
  {
   "cell_type": "code",
   "execution_count": 64,
   "metadata": {},
   "outputs": [],
   "source": [
    "from mimic import Mime\n"
   ]
  },
  {
   "cell_type": "code",
   "execution_count": 65,
   "metadata": {},
   "outputs": [],
   "source": [
    "db = Mime(\"./mimic.json\")\n",
    "db.clear()\n",
    "cities = {\n",
    "    \"new_york\":{\"schools\":[\"NYU\"]},\n",
    "    \"california\": {\"schools\":[\"UCLA\", \"USC\", \"Standford\"]},\n",
    "    \"arizona\": {\"schools\":[\"ASU\", \"Arizona State University\"]},\n",
    "    \"new_jersey\": {\"schools\":[\"prinston\"]},\n",
    "    \"ohio\": {\"schools\":[]}\n",
    "}"
   ]
  },
  {
   "cell_type": "code",
   "execution_count": 66,
   "metadata": {},
   "outputs": [],
   "source": [
    "#Create collection\n",
    "db.createCollection(\"cities\", cities)\n",
    "\n",
    "#Insert into collction\n",
    "citiesCollection = db.collection(\"cities\")\n",
    "citiesCollection.insert(\"massachusetts\",{\"schools\":[\"Harvard\", \"Boston College\"]})\n"
   ]
  },
  {
   "cell_type": "code",
   "execution_count": 67,
   "metadata": {},
   "outputs": [
    {
     "name": "stdout",
     "output_type": "stream",
     "text": [
      "{'new_york': {'schools': ['NYU']}, 'california': {'schools': ['UCLA', 'USC', 'Standford']}, 'arizona': {'schools': ['ASU', 'Arizona State University']}, 'new_jersey': {'schools': ['prinston']}, 'ohio': {'schools': []}, 'massachusetts': {'schools': ['Harvard', 'Boston College']}}\n"
     ]
    }
   ],
   "source": [
    "#Read collection\n",
    "citiesCollection_todict = citiesCollection.toDict()\n",
    "print(citiesCollection_todict)\n"
   ]
  },
  {
   "cell_type": "code",
   "execution_count": 68,
   "metadata": {},
   "outputs": [
    {
     "name": "stdout",
     "output_type": "stream",
     "text": [
      "{'schools': ['NYU']}\n"
     ]
    }
   ],
   "source": [
    "#Find key in collection\n",
    "new_york = citiesCollection.find(\"new_york\")\n",
    "print(new_york)"
   ]
  },
  {
   "cell_type": "code",
   "execution_count": 69,
   "metadata": {},
   "outputs": [
    {
     "name": "stdout",
     "output_type": "stream",
     "text": [
      "['cities']\n"
     ]
    }
   ],
   "source": [
    "#Get database keys\n",
    "print(db.getCollectionKeys())"
   ]
  },
  {
   "cell_type": "code",
   "execution_count": 70,
   "metadata": {},
   "outputs": [
    {
     "name": "stdout",
     "output_type": "stream",
     "text": [
      "{'cities': {'new_york': {'schools': ['NYU']}, 'california': {'schools': ['UCLA', 'USC', 'Standford']}, 'arizona': {'schools': ['ASU', 'Arizona State University']}, 'new_jersey': {'schools': ['prinston']}, 'ohio': {'schools': []}, 'massachusetts': {'schools': ['Harvard', 'Boston College']}}}\n"
     ]
    }
   ],
   "source": [
    "#print view database  \n",
    "print(db.toDict())"
   ]
  },
  {
   "cell_type": "code",
   "execution_count": 71,
   "metadata": {},
   "outputs": [],
   "source": [
    "#Update Collection\n",
    "citiesCollection.update_doc(\"ohio\", {\"schools\": [\"Ohio State University\"]})\n"
   ]
  }
 ],
 "metadata": {
  "kernelspec": {
   "display_name": "Python 3",
   "language": "python",
   "name": "python3"
  },
  "language_info": {
   "codemirror_mode": {
    "name": "ipython",
    "version": 3
   },
   "file_extension": ".py",
   "mimetype": "text/x-python",
   "name": "python",
   "nbconvert_exporter": "python",
   "pygments_lexer": "ipython3",
   "version": "3.9.6"
  },
  "orig_nbformat": 4,
  "vscode": {
   "interpreter": {
    "hash": "397704579725e15f5c7cb49fe5f0341eb7531c82d19f2c29d197e8b64ab5776b"
   }
  }
 },
 "nbformat": 4,
 "nbformat_minor": 2
}
